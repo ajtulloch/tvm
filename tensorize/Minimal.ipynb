{
 "cells": [
  {
   "cell_type": "code",
   "execution_count": 1,
   "metadata": {},
   "outputs": [],
   "source": [
    "from __future__ import division\n",
    "import numpy as np\n",
    "A = np.array([[1,  1,  1,   1,    1,    32,      32,    0],\n",
    "                   [0,  1,  -1,  2,   -2,   16,   -16,   0],\n",
    "                   [0,  1,  1,   4,    4,   8,    8,   0],\n",
    "                   [0,  1,  -1,  8,   -8,   4,   -4,   0],\n",
    "                   [0,  1,  1,   16,  16,   2,  2,   0],\n",
    "                   [0,  1,  -1,  32,  -32,  1,  -1,  1]],\n",
    "                  dtype=np.float32).T"
   ]
  },
  {
   "cell_type": "code",
   "execution_count": 2,
   "metadata": {},
   "outputs": [
    {
     "data": {
      "text/plain": [
       "(6, 8)"
      ]
     },
     "execution_count": 2,
     "metadata": {},
     "output_type": "execute_result"
    }
   ],
   "source": [
    "A.T.shape"
   ]
  },
  {
   "cell_type": "code",
   "execution_count": 3,
   "metadata": {},
   "outputs": [
    {
     "data": {
      "text/plain": [
       "array([[ 2279.53672559,    93.14981548,   919.28517152,    64.98949035,\n",
       "         1509.80438063,   202.92364418],\n",
       "       [  816.63040044,    77.57190375,   177.49753447,    90.38036514,\n",
       "          -49.68982707,   309.13935632],\n",
       "       [  813.33920446,   -22.4939987 ,   343.60077889,    24.28173823,\n",
       "          605.91112824,   126.33703776],\n",
       "       [  171.29128917,    14.42990213,    16.31021885,    55.38060905,\n",
       "         -104.7243629 ,   219.2474342 ],\n",
       "       [ 1003.75478809,  -192.06978807,   476.39812445,    34.81571071,\n",
       "          973.18319948,   327.49664857],\n",
       "       [  -52.38459258,     6.26250189,   -85.0212656 ,   137.83380243,\n",
       "         -338.10017994,   570.81380446]])"
      ]
     },
     "execution_count": 3,
     "metadata": {},
     "output_type": "execute_result"
    }
   ],
   "source": [
    "X = np.random.random((8, 8))\n",
    "A.T.dot(X).dot(A)"
   ]
  },
  {
   "cell_type": "code",
   "execution_count": 4,
   "metadata": {},
   "outputs": [
    {
     "data": {
      "text/plain": [
       "array([[  1.,   1.,   1.,   1.,   1.,  32.,  32.,   0.],\n",
       "       [  0.,   1.,  -1.,   2.,  -2.,  16., -16.,   0.],\n",
       "       [  0.,   1.,   1.,   4.,   4.,   8.,   8.,   0.],\n",
       "       [  0.,   1.,  -1.,   8.,  -8.,   4.,  -4.,   0.],\n",
       "       [  0.,   1.,   1.,  16.,  16.,   2.,   2.,   0.],\n",
       "       [  0.,   1.,  -1.,  32., -32.,   1.,  -1.,   1.]], dtype=float32)"
      ]
     },
     "execution_count": 4,
     "metadata": {},
     "output_type": "execute_result"
    }
   ],
   "source": [
    "A.T"
   ]
  },
  {
   "cell_type": "code",
   "execution_count": 5,
   "metadata": {},
   "outputs": [],
   "source": [
    "def A_T_dot_X(X):\n",
    "    m1_add_m2 = X[1] + X[2]\n",
    "    m1_sub_m2 = X[1] - X[2]\n",
    "    m3_add_m4 = X[3] + X[4]\n",
    "    m3_sub_m4 = X[3] - X[4]\n",
    "    m5_add_m6 = X[5] + X[6]\n",
    "    m5_sub_m6 = X[5] - X[6]\n",
    "    s0 = X[0] + m1_add_m2\n",
    "    s5 = X[7] + m1_sub_m2\n",
    "    s1 = m1_sub_m2 + m5_sub_m6 * 16\n",
    "    s4 = m1_add_m2 + m3_add_m4 * 16    \n",
    "    s2 = m1_add_m2 + 8 * m5_add_m6\n",
    "    s3 = m1_sub_m2 + 8 * m3_sub_m4\n",
    "    s0 = s0 + m5_add_m6 * 32\n",
    "    s5 = s5 + m3_sub_m4 * 32\n",
    "    s1 = s1 + m3_sub_m4 * 2\n",
    "    s4 = s4 + m5_add_m6 * 2\n",
    "    s0 = s0 + m3_add_m4\n",
    "    s5 = s5 + m5_sub_m6\n",
    "    s2 = s2 + m3_add_m4 * 4\n",
    "    s3 = s3 + m5_sub_m6 * 4\n",
    "\n",
    "    result = np.zeros((6, s0.size))\n",
    "    result[0] = s0\n",
    "    result[1] = s1\n",
    "    result[2] = s2\n",
    "    result[3] = s3\n",
    "    result[4] = s4\n",
    "    result[5] = s5\n",
    "    return result"
   ]
  },
  {
   "cell_type": "code",
   "execution_count": 6,
   "metadata": {},
   "outputs": [
    {
     "data": {
      "text/plain": [
       "array([[  1.,   0.,   0.,   0.,   0.,   0.],\n",
       "       [  1.,   1.,   1.,   1.,   1.,   1.],\n",
       "       [  1.,  -1.,   1.,  -1.,   1.,  -1.],\n",
       "       [  1.,   2.,   4.,   8.,  16.,  32.],\n",
       "       [  1.,  -2.,   4.,  -8.,  16., -32.],\n",
       "       [ 32.,  16.,   8.,   4.,   2.,   1.],\n",
       "       [ 32., -16.,   8.,  -4.,   2.,  -1.],\n",
       "       [  0.,   0.,   0.,   0.,   0.,   1.]], dtype=float32)"
      ]
     },
     "execution_count": 6,
     "metadata": {},
     "output_type": "execute_result"
    }
   ],
   "source": [
    "A"
   ]
  },
  {
   "cell_type": "code",
   "execution_count": 7,
   "metadata": {},
   "outputs": [],
   "source": [
    "def X_dot_A(X):\n",
    "    return A_T_dot_X(X.T).T\n"
   ]
  },
  {
   "cell_type": "code",
   "execution_count": 8,
   "metadata": {},
   "outputs": [],
   "source": [
    "np.testing.assert_allclose(\n",
    "    A_T_dot_X(X), \n",
    "    A.T.dot(X), \n",
    "    atol=1e-3, rtol=1e-3)"
   ]
  },
  {
   "cell_type": "code",
   "execution_count": 9,
   "metadata": {},
   "outputs": [],
   "source": [
    "np.testing.assert_allclose(\n",
    "    X_dot_A(A_T_dot_X(X)),\n",
    "    A.T.dot(X).dot(A), atol=1e-3, rtol=1e-3)"
   ]
  },
  {
   "cell_type": "code",
   "execution_count": 10,
   "metadata": {},
   "outputs": [
    {
     "name": "stdout",
     "output_type": "stream",
     "text": [
      "[[ 1.    0.   -5.25  0.    5.25  0.   -1.    0.  ]\n",
      " [ 0.    1.    1.   -4.25 -4.25  1.    1.    0.  ]\n",
      " [ 0.   -1.    1.    4.25 -4.25 -1.    1.    0.  ]\n",
      " [ 0.    0.5   0.25 -2.5  -1.25  2.    1.    0.  ]\n",
      " [ 0.   -0.5   0.25  2.5  -1.25 -2.    1.    0.  ]\n",
      " [ 0.    2.    4.   -2.5  -5.    0.5   1.    0.  ]\n",
      " [ 0.   -2.    4.    2.5  -5.   -0.5   1.    0.  ]\n",
      " [ 0.   -1.    0.    5.25  0.   -5.25  0.    1.  ]]\n"
     ]
    }
   ],
   "source": [
    "B = np.array(\n",
    "    [[1,   0,    -21/4,    0,    21/4,     0,    -1,  0],\n",
    "     [0,   1,      1,    -17/4,  -17/4,    1,    1,   0],\n",
    "     [0,   -1,     1,    17/4,   -17/4,   -1,    1,   0],\n",
    "     [0,  1/2,    1/4,   -5/2,   -5/4,     2,    1,   0],\n",
    "     [0,  -1/2,   1/4,    5/2,   -5/4,    -2,    1,   0],\n",
    "     [0,   2,      4,    -5/2,    -5,     1/2,   1,   0],\n",
    "     [0,   -2,     4,     5/2,    -5,    -1/2,   1,   0],\n",
    "     [0,   -1,     0,    21/4,     0,    -21/4,  0,   1]],\n",
    "    dtype=np.float32).T\n",
    "print(B.T)"
   ]
  },
  {
   "cell_type": "code",
   "execution_count": 29,
   "metadata": {},
   "outputs": [],
   "source": [
    "def B_T_dot_X(X):\n",
    "    wd0 = X[0] - X[6]\n",
    "    d4_sub_d2 = X[4] - X[2]\n",
    "    wd7 = X[7] - X[1]\n",
    "    d3_sub_d5 = X[3] - X[5]\n",
    "    wd1 = X[2] + X[6]\n",
    "    wd2 = X[1] + X[5]\n",
    "    wd4 = X[5] + X[1] * 0.25\n",
    "    wd5 = X[6] - X[4] * 5\n",
    "    wd3 = X[6] + X[2] * 0.25\n",
    "    wd6 = X[1] + X[5] * 0.25\n",
    "    \n",
    "    wd0 = wd0 + d4_sub_d2 * 5.25\n",
    "    wd7 = wd7 + d3_sub_d5 * 5.25\n",
    "\n",
    "    wd1 = wd1 - X[4] * 4.25\n",
    "    wd2 = wd2 - X[3] * 4.25\n",
    "    \n",
    "    wd3 = wd3 - X[4] * 1.25\n",
    "    wd5 = wd5 + X[2] * 4\n",
    "    wd4 = wd4 - X[3] * 1.25\n",
    "    wd6 = wd6 - X[3] * 1.25\n",
    "    \n",
    "    result = np.zeros((8, wd0.size))\n",
    "    result[0] = wd0\n",
    "    result[1] = wd1 + wd2\n",
    "    result[2] = wd1 - wd2\n",
    "    result[3] = wd3 + wd4 * 2\n",
    "    result[4] = wd3 - wd4 * 2\n",
    "    result[5] = wd5 + wd6 * 2\n",
    "    result[6] = wd5 - wd6 * 2\n",
    "    result[7] = wd7\n",
    "    return result\n",
    "\n",
    "def X_dot_B(X):\n",
    "    return B_T_dot_X(X.T).T\n"
   ]
  },
  {
   "cell_type": "code",
   "execution_count": 40,
   "metadata": {},
   "outputs": [
    {
     "data": {
      "text/plain": [
       "array([[-3.94160021, -0.39707211,  1.01389183, -1.89092649, -1.32468301,\n",
       "         0.65130627,  2.25137927,  1.58388842],\n",
       "       [-0.927845  , -3.85648272, -2.45472299, -1.10567028, -1.37867465,\n",
       "        -3.68188496, -4.44220229, -3.22989566],\n",
       "       [ 3.6436217 ,  2.29905905,  0.79407417,  1.36430156,  3.01882076,\n",
       "         1.63750617,  0.20864486, -0.91902815],\n",
       "       [ 0.47067339, -1.28780779, -0.6667518 ,  0.61877152,  0.02666682,\n",
       "        -0.71142581, -1.21397208, -0.36787336],\n",
       "       [ 1.62212386,  2.08941991,  1.21701949, -0.41964026,  1.51148966,\n",
       "         1.28379597,  1.06256513, -0.78878458],\n",
       "       [ 3.36634091, -0.18900032, -1.34327562,  1.84621704,  0.79028245,\n",
       "        -1.85132437, -3.34341492, -0.9326498 ],\n",
       "       [ 3.94908187,  0.94283735,  0.23997309,  1.86200372,  2.49727928,\n",
       "         1.09198786, -1.09492655, -1.37155873],\n",
       "       [ 1.09923203,  3.81003   ,  2.09334467, -1.21681923,  2.07160207,\n",
       "         1.90959169,  2.56511021, -0.3970806 ]])"
      ]
     },
     "execution_count": 40,
     "metadata": {},
     "output_type": "execute_result"
    }
   ],
   "source": []
  },
  {
   "cell_type": "code",
   "execution_count": 44,
   "metadata": {},
   "outputs": [],
   "source": [
    "for i in range(10):\n",
    "    X = np.random.random((8, 8))\n",
    "    np.testing.assert_allclose(\n",
    "        X_dot_B(B_T_dot_X(X)), \n",
    "        B.T.dot(X).dot(B), \n",
    "        atol=1e-7, rtol=1e-7)"
   ]
  },
  {
   "cell_type": "code",
   "execution_count": null,
   "metadata": {},
   "outputs": [],
   "source": []
  },
  {
   "cell_type": "code",
   "execution_count": null,
   "metadata": {},
   "outputs": [],
   "source": []
  }
 ],
 "metadata": {
  "kernelspec": {
   "display_name": "Python 2",
   "language": "python",
   "name": "python2"
  },
  "language_info": {
   "codemirror_mode": {
    "name": "ipython",
    "version": 2
   },
   "file_extension": ".py",
   "mimetype": "text/x-python",
   "name": "python",
   "nbconvert_exporter": "python",
   "pygments_lexer": "ipython2",
   "version": "2.7.14"
  }
 },
 "nbformat": 4,
 "nbformat_minor": 2
}
