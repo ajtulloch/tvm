{
 "cells": [
  {
   "cell_type": "code",
   "execution_count": 4,
   "metadata": {},
   "outputs": [],
   "source": [
    "import numpy as np\n",
    "A = np.array([[1,  1,  1,   1,    1,    32,      32,    0],\n",
    "                   [0,  1,  -1,  2,   -2,   16,   -16,   0],\n",
    "                   [0,  1,  1,   4,    4,   8,    8,   0],\n",
    "                   [0,  1,  -1,  8,   -8,   4,   -4,   0],\n",
    "                   [0,  1,  1,   16,  16,   2,  2,   0],\n",
    "                   [0,  1,  -1,  32,  -32,  1,  -1,  1]],\n",
    "                  dtype=np.float32).T"
   ]
  },
  {
   "cell_type": "code",
   "execution_count": 5,
   "metadata": {},
   "outputs": [
    {
     "data": {
      "text/plain": [
       "(6, 8)"
      ]
     },
     "execution_count": 5,
     "metadata": {},
     "output_type": "execute_result"
    }
   ],
   "source": [
    "A.T.shape"
   ]
  },
  {
   "cell_type": "code",
   "execution_count": 21,
   "metadata": {},
   "outputs": [
    {
     "data": {
      "text/plain": [
       "array([[  2.12884521e+03,   3.03141530e+02,   8.86917739e+02,\n",
       "          2.36407740e+02,   1.47201471e+03,   7.11062455e+02],\n",
       "       [  6.59219339e+01,   1.44126897e+02,  -3.02584170e+01,\n",
       "          7.23021148e+01,  -1.70302707e+02,   1.37888037e+02],\n",
       "       [  7.96183067e+02,   8.48405363e+01,   3.28337077e+02,\n",
       "          6.13196286e+01,   5.46903503e+02,   1.83489950e+02],\n",
       "       [ -2.04996207e+02,   1.39814577e+02,  -6.19755312e+01,\n",
       "          9.09655172e+01,  -4.68622166e+01,   2.48146190e+02],\n",
       "       [  1.17809673e+03,   2.81994201e+01,   4.68009437e+02,\n",
       "          1.00175982e+00,   7.62340649e+02,  -4.25553937e+00],\n",
       "       [ -9.54482977e+02,   4.37755104e+02,  -2.26683174e+02,\n",
       "          2.99595051e+02,   9.39343954e+00,   8.63935509e+02]])"
      ]
     },
     "execution_count": 21,
     "metadata": {},
     "output_type": "execute_result"
    }
   ],
   "source": [
    "X = np.random.random((8, 8))\n",
    "A.T.dot(X).dot(A)"
   ]
  },
  {
   "cell_type": "code",
   "execution_count": 50,
   "metadata": {},
   "outputs": [
    {
     "data": {
      "text/plain": [
       "array([[  1.,   1.,   1.,   1.,   1.,  32.,  32.,   0.],\n",
       "       [  0.,   1.,  -1.,   2.,  -2.,  16., -16.,   0.],\n",
       "       [  0.,   1.,   1.,   4.,   4.,   8.,   8.,   0.],\n",
       "       [  0.,   1.,  -1.,   8.,  -8.,   4.,  -4.,   0.],\n",
       "       [  0.,   1.,   1.,  16.,  16.,   2.,   2.,   0.],\n",
       "       [  0.,   1.,  -1.,  32., -32.,   1.,  -1.,   1.]], dtype=float32)"
      ]
     },
     "execution_count": 50,
     "metadata": {},
     "output_type": "execute_result"
    }
   ],
   "source": [
    "A.T"
   ]
  },
  {
   "cell_type": "code",
   "execution_count": 55,
   "metadata": {},
   "outputs": [],
   "source": [
    "def A_T_dot_X(X):\n",
    "    m1_add_m2 = X[1] + X[2]\n",
    "    m1_sub_m2 = X[1] - X[2]\n",
    "    m3_add_m4 = X[3] + X[4]\n",
    "    m3_sub_m4 = X[3] - X[4]\n",
    "    m5_add_m6 = X[5] + X[6]\n",
    "    m5_sub_m6 = X[5] - X[6]\n",
    "    s0 = X[0] + m1_add_m2\n",
    "    s5 = X[7] + m1_sub_m2\n",
    "    s1 = m1_sub_m2 + m5_sub_m6 * 16\n",
    "    s4 = m1_add_m2 + m3_add_m4 * 16    \n",
    "    s2 = m1_add_m2 + 8 * m5_add_m6\n",
    "    s3 = m1_sub_m2 + 8 * m3_sub_m4\n",
    "    s0 = s0 + m5_add_m6 * 32\n",
    "    s5 = s5 + m3_sub_m4 * 32\n",
    "    s1 = s1 + m3_sub_m4 * 2\n",
    "    s4 = s4 + m5_add_m6 * 2\n",
    "    s0 = s0 + m3_add_m4\n",
    "    s5 = s5 + m5_sub_m6\n",
    "    s2 = s2 + m3_add_m4 * 4\n",
    "    s3 = s3 + m5_sub_m6 * 4\n",
    "\n",
    "    result = np.zeros((6, s0.size))\n",
    "    result[0] = s0\n",
    "    result[1] = s1\n",
    "    result[2] = s2\n",
    "    result[3] = s3\n",
    "    result[4] = s4\n",
    "    result[5] = s5\n",
    "    return result"
   ]
  },
  {
   "cell_type": "code",
   "execution_count": 56,
   "metadata": {},
   "outputs": [
    {
     "data": {
      "text/plain": [
       "array([[  1.,   0.,   0.,   0.,   0.,   0.],\n",
       "       [  1.,   1.,   1.,   1.,   1.,   1.],\n",
       "       [  1.,  -1.,   1.,  -1.,   1.,  -1.],\n",
       "       [  1.,   2.,   4.,   8.,  16.,  32.],\n",
       "       [  1.,  -2.,   4.,  -8.,  16., -32.],\n",
       "       [ 32.,  16.,   8.,   4.,   2.,   1.],\n",
       "       [ 32., -16.,   8.,  -4.,   2.,  -1.],\n",
       "       [  0.,   0.,   0.,   0.,   0.,   1.]], dtype=float32)"
      ]
     },
     "execution_count": 56,
     "metadata": {},
     "output_type": "execute_result"
    }
   ],
   "source": [
    "A"
   ]
  },
  {
   "cell_type": "code",
   "execution_count": 57,
   "metadata": {},
   "outputs": [],
   "source": [
    "def X_dot_A(X):\n",
    "    return A_T_dot_X(X.T).T\n"
   ]
  },
  {
   "cell_type": "code",
   "execution_count": 58,
   "metadata": {},
   "outputs": [],
   "source": [
    "np.testing.assert_allclose(\n",
    "    A_T_dot_X(X), \n",
    "    A.T.dot(X), \n",
    "    atol=1e-3, rtol=1e-3)"
   ]
  },
  {
   "cell_type": "code",
   "execution_count": 59,
   "metadata": {},
   "outputs": [],
   "source": [
    "np.testing.assert_allclose(\n",
    "    X_dot_A(A_T_dot_X(X)),\n",
    "    A.T.dot(X).dot(A), atol=1e-3, rtol=1e-3)"
   ]
  },
  {
   "cell_type": "code",
   "execution_count": null,
   "metadata": {},
   "outputs": [],
   "source": []
  }
 ],
 "metadata": {
  "kernelspec": {
   "display_name": "Python 2",
   "language": "python",
   "name": "python2"
  },
  "language_info": {
   "codemirror_mode": {
    "name": "ipython",
    "version": 2
   },
   "file_extension": ".py",
   "mimetype": "text/x-python",
   "name": "python",
   "nbconvert_exporter": "python",
   "pygments_lexer": "ipython2",
   "version": "2.7.14"
  }
 },
 "nbformat": 4,
 "nbformat_minor": 2
}
